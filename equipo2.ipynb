{
  "nbformat": 4,
  "nbformat_minor": 0,
  "metadata": {
    "kernelspec": {
      "display_name": "Python 3",
      "language": "python",
      "name": "python3"
    },
    "language_info": {
      "codemirror_mode": {
        "name": "ipython",
        "version": 3
      },
      "file_extension": ".py",
      "mimetype": "text/x-python",
      "name": "python",
      "nbconvert_exporter": "python",
      "pygments_lexer": "ipython3",
      "version": "3.7.4"
    },
    "colab": {
      "name": "EquipoVisionMK2.ipynb",
      "provenance": []
    }
  },
  "cells": [
    {
      "cell_type": "code",
      "metadata": {
        "id": "85b3nd1KpFFJ"
      },
      "source": [
        "import requests\n",
        "from bs4 import BeautifulSoup\n",
        "import csv\n",
        "import pandas as pd\n",
        "import re  \n",
        "import ast\n",
        "import numpy as np\n",
        "import matplotlib.pyplot as plt"
      ],
      "execution_count": null,
      "outputs": []
    },
    {
      "cell_type": "code",
      "metadata": {
        "id": "OGKEPMutpFFK"
      },
      "source": [
        "page = requests.get('https://www.worldometers.info/coronavirus/')"
      ],
      "execution_count": null,
      "outputs": []
    },
    {
      "cell_type": "code",
      "metadata": {
        "id": "e2Dft8UtpFFL"
      },
      "source": [
        "soup = BeautifulSoup(page.text, 'html.parser')"
      ],
      "execution_count": null,
      "outputs": []
    },
    {
      "cell_type": "code",
      "metadata": {
        "id": "l_GE38s-pFFL"
      },
      "source": [
        "#######Contenedor donde se encuentra la información\n",
        "Data=soup.find(class_=\"panel_back\")\n",
        "Data=Data.contents[3]\n",
        "#######Se guarda el string que contiene las fechas\n",
        "I=Data.text.find(\"categories:\")+12\n",
        "F=Data.text[I:].find(\"]\")+I+1\n",
        "Fechas=Data.text[I:F]\n",
        "Fechas=ast.literal_eval(Fechas)\n",
        "#######Se guarda el string que contiene los datos\n",
        "I=Data.text.find(\"data:\")+6\n",
        "F=Data.text[I:].find(\"]\")+I+1\n",
        "Datos=Data.text[I:F]\n",
        "Datos=ast.literal_eval(Datos)"
      ],
      "execution_count": null,
      "outputs": []
    },
    {
      "cell_type": "code",
      "metadata": {
        "colab": {
          "base_uri": "https://localhost:8080/",
          "height": 295
        },
        "id": "d2pkQ2GJpFFM",
        "outputId": "4dc0e348-d2a3-4f76-9f27-714d59b3b285"
      },
      "source": [
        "%matplotlib inline\n",
        "y=Datos\n",
        "x=np.arange(len(Fechas))\n",
        "plt.xticks(x,Fechas)\n",
        "plt.bar(x,y)\n",
        "plt.xlabel('Tiempo')\n",
        "plt.ylabel('Casos Diarios')\n",
        "plt.title('Casos Diarios Nuevos')\n",
        "plt.show()"
      ],
      "execution_count": null,
      "outputs": [
        {
          "output_type": "display_data",
          "data": {
            "image/png": "[encoded data removed]",
            "text/plain": [
              "<Figure size 432x288 with 1 Axes>"
            ]
          },
          "metadata": {
            "tags": [],
            "needs_background": "light"
          }
        }
      ]
    },
    {
      "cell_type": "code",
      "metadata": {
        "scrolled": true,
        "colab": {
          "base_uri": "https://localhost:8080/"
        },
        "id": "X31mzHIApFFO",
        "outputId": "1ef17c28-7982-4a79-839a-133136a19724"
      },
      "source": [
        "# 1) Features and response are separate objects\n",
        "print(Datos)\n",
        "print(Fechas)"
      ],
      "execution_count": null,
      "outputs": [
        {
          "output_type": "stream",
          "text": [
            "[970, 1199, 1651, 2326, 3087, 4836, 6245, 7948, 9873, 11893, 14389, 17012, 20062, 23658, 27047, 29769, 32615, 34605, 36873, 38614, 39807, 52657, 56889, 58039, 58697, 59314, 59508, 59411, 58024, 56770, 55344, 54527, 52657, 51092, 49305, 47649, 45332, 44175, 43423, 43188, 42745, 43124, 43637, 45742, 48735, 51811, 55366, 60597, 66484, 75732, 86571, 100399, 113772, 130687, 148315, 167277, 190405, 218180, 251849, 279614, 311287, 350276, 385695, 426157, 474490, 527372, 581262, 628718, 674509, 731889, 787652, 841250, 899886, 954970, 1002301, 1055242, 1100815, 1147873, 1199609, 1263934, 1308648, 1350851, 1393185, 1421415, 1458215, 1491856, 1536815, 1575590, 1606619, 1653479, 1672662, 1711736, 1750224, 1767855, 1806207, 1845716, 1860086, 1890649, 1914738, 1955491, 1999558, 2032453, 2076806, 2112514, 2141642, 2169714, 2215011, 2260367, 2286698, 2319560, 2350432, 2365853, 2385787, 2431033, 2469824, 2505523, 2539024, 2574233, 2608968, 2638912, 2679565, 2667604, 2699764, 2730230, 2746987, 2764786, 2791894, 2811095, 2857172, 2887359, 2874578, 2908949, 2906533, 2860475, 2897171, 2939272, 2981604, 3039509, 3064177, 3111160, 3104447, 3126398, 3172505, 3190107, 3231192, 3257399, 3282579, 3307240, 3339926, 3399952, 3430648, 3450094, 3497344, 3530921, 3561941, 3645800, 3700151, 3769346, 3834641, 3884370, 3925538, 3988418, 3994411, 4072560, 4125800, 4204480, 4268211, 4264782, 4297267, 4362516, 4448300, 4515292, 4604210, 4684774, 4751928, 4793657, 4797149, 4859557, 4932305, 5031014, 5063646, 5096979, 5129543, 5214517, 5313100, 5378940, 5466293, 5499830, 5520170, 5567955, 5608978, 5670310, 5754829, 5827689, 5819862, 5835992, 5861066, 5948127, 6038671, 6125808, 6110343, 6109246, 6114047, 6132053, 6196651, 6257394, 6329338, 6313964, 6282976, 6279554, 6292546, 6342616, 6405770, 6467442, 6497943, 6435308, 6433625, 6436242, 6486672, 6564362, 6612463, 6632885, 6642770, 6642926, 6671218, 6712327, 6745811, 6795298, 6814806, 6787094, 6785696, 6792586, 6842476, 6907471, 6958697, 6980564, 6971702, 6978965, 7011816, 7074183, 7086763, 7131015, 7127712, 7075663, 7055600, 7074939, 7125359, 7188415, 7240783, 7257271, 7240685, 7250479, 7267165, 7333158, 7419039, 7478309, 7491201, 7500481, 7522448, 7573314, 7672438, 7767190, 7904752, 7940510, 7951980, 8005007, 8090107, 8223291, 8341763, 8483643, 8583364, 8672468, 8772894, 8907302, 9098435, 9330976, 9540404, 9710827, 9827030, 9998857, 10213783, 10477165, 10766671, 10997568, 11173518, 11352278, 11520986, 11750968, 12041444, 12358576, 12666881, 12903845, 13091011, 13303421, 13606334, 13695977, 14012884, 14254606, 14467023, 14606877, 14668227, 14863046, 15096419, 15346033, 15538582, 15715074, 15829504, 15952712, 16051961, 16254136, 16411712, 16552365, 16649669, 16658057, 16722116, 16803414, 16966107, 17156101, 17279709, 17414432, 17451149, 17513890, 17592177, 17742148, 17875242, 18005980, 18143105, 18171093, 18230238, 18345369, 18542319, 18783061, 18884347, 19045901, 19056534, 19109467, 19240611, 19401160, 19536061, 19527283, 19531466, 19484229, 19533480, 19689533, 19938900, 20186515, 20261579, 20382170, 20314249, 20508071, 20756704, 21099700, 21496628, 21766428, 22027253, 22111887, 22247487, 22490644, 22696368, 22892329, 23090913, 23224745, 23218774, 23138566, 23200555, 23343451, 23502228, 23631433, 23715270, 23582824, 23534880, 23614881, 23637182, 23729511, 23789364, 23811573, 23572706, 23472866, 23409238, 23409983, 23429058, 23371990, 23312648, 23139401, 23002928, 22867943, 22823744, 22782066, 22741841, 22647840, 22475937, 22330783, 22247838, 22193328, 22162597, 22146619, 22089759, 21908855, 21816227, 21795662, 21813753, 21831513, 21830111, 21821739, 21663619, 21629945, 21717251]\n",
            "['Jan 22, 2020', 'Jan 23, 2020', 'Jan 24, 2020', 'Jan 25, 2020', 'Jan 26, 2020', 'Jan 27, 2020', 'Jan 28, 2020', 'Jan 29, 2020', 'Jan 30, 2020', 'Jan 31, 2020', 'Feb 01, 2020', 'Feb 02, 2020', 'Feb 03, 2020', 'Feb 04, 2020', 'Feb 05, 2020', 'Feb 06, 2020', 'Feb 07, 2020', 'Feb 08, 2020', 'Feb 09, 2020', 'Feb 10, 2020', 'Feb 11, 2020', 'Feb 12, 2020', 'Feb 13, 2020', 'Feb 14, 2020', 'Feb 15, 2020', 'Feb 16, 2020', 'Feb 17, 2020', 'Feb 18, 2020', 'Feb 19, 2020', 'Feb 20, 2020', 'Feb 21, 2020', 'Feb 22, 2020', 'Feb 23, 2020', 'Feb 24, 2020', 'Feb 25, 2020', 'Feb 26, 2020', 'Feb 27, 2020', 'Feb 28, 2020', 'Feb 29, 2020', 'Mar 01, 2020', 'Mar 02, 2020', 'Mar 03, 2020', 'Mar 04, 2020', 'Mar 05, 2020', 'Mar 06, 2020', 'Mar 07, 2020', 'Mar 08, 2020', 'Mar 09, 2020', 'Mar 10, 2020', 'Mar 11, 2020', 'Mar 12, 2020', 'Mar 13, 2020', 'Mar 14, 2020', 'Mar 15, 2020', 'Mar 16, 2020', 'Mar 17, 2020', 'Mar 18, 2020', 'Mar 19, 2020', 'Mar 20, 2020', 'Mar 21, 2020', 'Mar 22, 2020', 'Mar 23, 2020', 'Mar 24, 2020', 'Mar 25, 2020', 'Mar 26, 2020', 'Mar 27, 2020', 'Mar 28, 2020', 'Mar 29, 2020', 'Mar 30, 2020', 'Mar 31, 2020', 'Apr 01, 2020', 'Apr 02, 2020', 'Apr 03, 2020', 'Apr 04, 2020', 'Apr 05, 2020', 'Apr 06, 2020', 'Apr 07, 2020', 'Apr 08, 2020', 'Apr 09, 2020', 'Apr 10, 2020', 'Apr 11, 2020', 'Apr 12, 2020', 'Apr 13, 2020', 'Apr 14, 2020', 'Apr 15, 2020', 'Apr 16, 2020', 'Apr 17, 2020', 'Apr 18, 2020', 'Apr 19, 2020', 'Apr 20, 2020', 'Apr 21, 2020', 'Apr 22, 2020', 'Apr 23, 2020', 'Apr 24, 2020', 'Apr 25, 2020', 'Apr 26, 2020', 'Apr 27, 2020', 'Apr 28, 2020', 'Apr 29, 2020', 'Apr 30, 2020', 'May 01, 2020', 'May 02, 2020', 'May 03, 2020', 'May 04, 2020', 'May 05, 2020', 'May 06, 2020', 'May 07, 2020', 'May 08, 2020', 'May 09, 2020', 'May 10, 2020', 'May 11, 2020', 'May 12, 2020', 'May 13, 2020', 'May 14, 2020', 'May 15, 2020', 'May 16, 2020', 'May 17, 2020', 'May 18, 2020', 'May 19, 2020', 'May 20, 2020', 'May 21, 2020', 'May 22, 2020', 'May 23, 2020', 'May 24, 2020', 'May 25, 2020', 'May 26, 2020', 'May 27, 2020', 'May 28, 2020', 'May 29, 2020', 'May 30, 2020', 'May 31, 2020', 'Jun 01, 2020', 'Jun 02, 2020', 'Jun 03, 2020', 'Jun 04, 2020', 'Jun 05, 2020', 'Jun 06, 2020', 'Jun 07, 2020', 'Jun 08, 2020', 'Jun 09, 2020', 'Jun 10, 2020', 'Jun 11, 2020', 'Jun 12, 2020', 'Jun 13, 2020', 'Jun 14, 2020', 'Jun 15, 2020', 'Jun 16, 2020', 'Jun 17, 2020', 'Jun 18, 2020', 'Jun 19, 2020', 'Jun 20, 2020', 'Jun 21, 2020', 'Jun 22, 2020', 'Jun 23, 2020', 'Jun 24, 2020', 'Jun 25, 2020', 'Jun 26, 2020', 'Jun 27, 2020', 'Jun 28, 2020', 'Jun 29, 2020', 'Jun 30, 2020', 'Jul 01, 2020', 'Jul 02, 2020', 'Jul 03, 2020', 'Jul 04, 2020', 'Jul 05, 2020', 'Jul 06, 2020', 'Jul 07, 2020', 'Jul 08, 2020', 'Jul 09, 2020', 'Jul 10, 2020', 'Jul 11, 2020', 'Jul 12, 2020', 'Jul 13, 2020', 'Jul 14, 2020', 'Jul 15, 2020', 'Jul 16, 2020', 'Jul 17, 2020', 'Jul 18, 2020', 'Jul 19, 2020', 'Jul 20, 2020', 'Jul 21, 2020', 'Jul 22, 2020', 'Jul 23, 2020', 'Jul 24, 2020', 'Jul 25, 2020', 'Jul 26, 2020', 'Jul 27, 2020', 'Jul 28, 2020', 'Jul 29, 2020', 'Jul 30, 2020', 'Jul 31, 2020', 'Aug 01, 2020', 'Aug 02, 2020', 'Aug 03, 2020', 'Aug 04, 2020', 'Aug 05, 2020', 'Aug 06, 2020', 'Aug 07, 2020', 'Aug 08, 2020', 'Aug 09, 2020', 'Aug 10, 2020', 'Aug 11, 2020', 'Aug 12, 2020', 'Aug 13, 2020', 'Aug 14, 2020', 'Aug 15, 2020', 'Aug 16, 2020', 'Aug 17, 2020', 'Aug 18, 2020', 'Aug 19, 2020', 'Aug 20, 2020', 'Aug 21, 2020', 'Aug 22, 2020', 'Aug 23, 2020', 'Aug 24, 2020', 'Aug 25, 2020', 'Aug 26, 2020', 'Aug 27, 2020', 'Aug 28, 2020', 'Aug 29, 2020', 'Aug 30, 2020', 'Aug 31, 2020', 'Sep 01, 2020', 'Sep 02, 2020', 'Sep 03, 2020', 'Sep 04, 2020', 'Sep 05, 2020', 'Sep 06, 2020', 'Sep 07, 2020', 'Sep 08, 2020', 'Sep 09, 2020', 'Sep 10, 2020', 'Sep 11, 2020', 'Sep 12, 2020', 'Sep 13, 2020', 'Sep 14, 2020', 'Sep 15, 2020', 'Sep 16, 2020', 'Sep 17, 2020', 'Sep 18, 2020', 'Sep 19, 2020', 'Sep 20, 2020', 'Sep 21, 2020', 'Sep 22, 2020', 'Sep 23, 2020', 'Sep 24, 2020', 'Sep 25, 2020', 'Sep 26, 2020', 'Sep 27, 2020', 'Sep 28, 2020', 'Sep 29, 2020', 'Sep 30, 2020', 'Oct 01, 2020', 'Oct 02, 2020', 'Oct 03, 2020', 'Oct 04, 2020', 'Oct 05, 2020', 'Oct 06, 2020', 'Oct 07, 2020', 'Oct 08, 2020', 'Oct 09, 2020', 'Oct 10, 2020', 'Oct 11, 2020', 'Oct 12, 2020', 'Oct 13, 2020', 'Oct 14, 2020', 'Oct 15, 2020', 'Oct 16, 2020', 'Oct 17, 2020', 'Oct 18, 2020', 'Oct 19, 2020', 'Oct 20, 2020', 'Oct 21, 2020', 'Oct 22, 2020', 'Oct 23, 2020', 'Oct 24, 2020', 'Oct 25, 2020', 'Oct 26, 2020', 'Oct 27, 2020', 'Oct 28, 2020', 'Oct 29, 2020', 'Oct 30, 2020', 'Oct 31, 2020', 'Nov 01, 2020', 'Nov 02, 2020', 'Nov 03, 2020', 'Nov 04, 2020', 'Nov 05, 2020', 'Nov 06, 2020', 'Nov 07, 2020', 'Nov 08, 2020', 'Nov 09, 2020', 'Nov 10, 2020', 'Nov 11, 2020', 'Nov 12, 2020', 'Nov 13, 2020', 'Nov 14, 2020', 'Nov 15, 2020', 'Nov 16, 2020', 'Nov 17, 2020', 'Nov 18, 2020', 'Nov 19, 2020', 'Nov 20, 2020', 'Nov 21, 2020', 'Nov 22, 2020', 'Nov 23, 2020', 'Nov 24, 2020', 'Nov 25, 2020', 'Nov 26, 2020', 'Nov 27, 2020', 'Nov 28, 2020', 'Nov 29, 2020', 'Nov 30, 2020', 'Dec 01, 2020', 'Dec 02, 2020', 'Dec 03, 2020', 'Dec 04, 2020', 'Dec 05, 2020', 'Dec 06, 2020', 'Dec 07, 2020', 'Dec 08, 2020', 'Dec 09, 2020', 'Dec 10, 2020', 'Dec 11, 2020', 'Dec 12, 2020', 'Dec 13, 2020', 'Dec 14, 2020', 'Dec 15, 2020', 'Dec 16, 2020', 'Dec 17, 2020', 'Dec 18, 2020', 'Dec 19, 2020', 'Dec 20, 2020', 'Dec 21, 2020', 'Dec 22, 2020', 'Dec 23, 2020', 'Dec 24, 2020', 'Dec 25, 2020', 'Dec 26, 2020', 'Dec 27, 2020', 'Dec 28, 2020', 'Dec 29, 2020', 'Dec 30, 2020', 'Dec 31, 2020', 'Jan 01, 2021', 'Jan 02, 2021', 'Jan 03, 2021', 'Jan 04, 2021', 'Jan 05, 2021', 'Jan 06, 2021', 'Jan 07, 2021', 'Jan 08, 2021', 'Jan 09, 2021', 'Jan 10, 2021', 'Jan 11, 2021', 'Jan 12, 2021', 'Jan 13, 2021', 'Jan 14, 2021', 'Jan 15, 2021', 'Jan 16, 2021', 'Jan 17, 2021', 'Jan 18, 2021', 'Jan 19, 2021', 'Jan 20, 2021', 'Jan 21, 2021', 'Jan 22, 2021', 'Jan 23, 2021', 'Jan 24, 2021', 'Jan 25, 2021', 'Jan 26, 2021', 'Jan 27, 2021', 'Jan 28, 2021', 'Jan 29, 2021', 'Jan 30, 2021', 'Jan 31, 2021', 'Feb 01, 2021', 'Feb 02, 2021', 'Feb 03, 2021', 'Feb 04, 2021', 'Feb 05, 2021', 'Feb 06, 2021', 'Feb 07, 2021', 'Feb 08, 2021', 'Feb 09, 2021', 'Feb 10, 2021', 'Feb 11, 2021', 'Feb 12, 2021', 'Feb 13, 2021', 'Feb 14, 2021', 'Feb 15, 2021', 'Feb 16, 2021', 'Feb 17, 2021', 'Feb 18, 2021', 'Feb 19, 2021', 'Feb 20, 2021', 'Feb 21, 2021', 'Feb 22, 2021', 'Feb 23, 2021', 'Feb 24, 2021', 'Feb 25, 2021', 'Feb 26, 2021', 'Feb 27, 2021', 'Feb 28, 2021', 'Mar 01, 2021', 'Mar 02, 2021', 'Mar 03, 2021']\n"
          ],
          "name": "stdout"
        }
      ]
    },
    {
      "cell_type": "code",
      "metadata": {
        "colab": {
          "base_uri": "https://localhost:8080/"
        },
        "id": "t86vdcZ0pFFO",
        "outputId": "6d1dfe9a-28bd-43ad-cd13-189738223651"
      },
      "source": [
        "# 2) Features and response should be numeric and Numpy arrays\n",
        "type(Datos)\n",
        "type(Fechas)"
      ],
      "execution_count": null,
      "outputs": [
        {
          "output_type": "execute_result",
          "data": {
            "text/plain": [
              "list"
            ]
          },
          "metadata": {
            "tags": []
          },
          "execution_count": 22
        }
      ]
    },
    {
      "cell_type": "code",
      "metadata": {
        "colab": {
          "base_uri": "https://localhost:8080/"
        },
        "id": "qc1kouadpFFO",
        "outputId": "1e75d3d8-f786-4348-e245-8f0b1bcf068d"
      },
      "source": [
        "#Transforming to ndarray\n",
        "aDatos = np.array(Datos)\n",
        "type(aDatos)"
      ],
      "execution_count": null,
      "outputs": [
        {
          "output_type": "execute_result",
          "data": {
            "text/plain": [
              "numpy.ndarray"
            ]
          },
          "metadata": {
            "tags": []
          },
          "execution_count": 23
        }
      ]
    },
    {
      "cell_type": "code",
      "metadata": {
        "colab": {
          "base_uri": "https://localhost:8080/"
        },
        "id": "zHvS22VWpFFP",
        "outputId": "6246d39a-443e-40a5-b67e-ccc5ac9a0873"
      },
      "source": [
        "aFechas = np.array(range(len(Fechas)))+1\n",
        "aFechas"
      ],
      "execution_count": null,
      "outputs": [
        {
          "output_type": "execute_result",
          "data": {
            "text/plain": [
              "array([  1,   2,   3,   4,   5,   6,   7,   8,   9,  10,  11,  12,  13,\n",
              "        14,  15,  16,  17,  18,  19,  20,  21,  22,  23,  24,  25,  26,\n",
              "        27,  28,  29,  30,  31,  32,  33,  34,  35,  36,  37,  38,  39,\n",
              "        40,  41,  42,  43,  44,  45,  46,  47,  48,  49,  50,  51,  52,\n",
              "        53,  54,  55,  56,  57,  58,  59,  60,  61,  62,  63,  64,  65,\n",
              "        66,  67,  68,  69,  70,  71,  72,  73,  74,  75,  76,  77,  78,\n",
              "        79,  80,  81,  82,  83,  84,  85,  86,  87,  88,  89,  90,  91,\n",
              "        92,  93,  94,  95,  96,  97,  98,  99, 100, 101, 102, 103, 104,\n",
              "       105, 106, 107, 108, 109, 110, 111, 112, 113, 114, 115, 116, 117,\n",
              "       118, 119, 120, 121, 122, 123, 124, 125, 126, 127, 128, 129, 130,\n",
              "       131, 132, 133, 134, 135, 136, 137, 138, 139, 140, 141, 142, 143,\n",
              "       144, 145, 146, 147, 148, 149, 150, 151, 152, 153, 154, 155, 156,\n",
              "       157, 158, 159, 160, 161, 162, 163, 164, 165, 166, 167, 168, 169,\n",
              "       170, 171, 172, 173, 174, 175, 176, 177, 178, 179, 180, 181, 182,\n",
              "       183, 184, 185, 186, 187, 188, 189, 190, 191, 192, 193, 194, 195,\n",
              "       196, 197, 198, 199, 200, 201, 202, 203, 204, 205, 206, 207, 208,\n",
              "       209, 210, 211, 212, 213, 214, 215, 216, 217, 218, 219, 220, 221,\n",
              "       222, 223, 224, 225, 226, 227, 228, 229, 230, 231, 232, 233, 234,\n",
              "       235, 236, 237, 238, 239, 240, 241, 242, 243, 244, 245, 246, 247,\n",
              "       248, 249, 250, 251, 252, 253, 254, 255, 256, 257, 258, 259, 260,\n",
              "       261, 262, 263, 264, 265, 266, 267, 268, 269, 270, 271, 272, 273,\n",
              "       274, 275, 276, 277, 278, 279, 280, 281, 282, 283, 284, 285, 286,\n",
              "       287, 288, 289, 290, 291, 292, 293, 294, 295, 296, 297, 298, 299,\n",
              "       300, 301, 302, 303, 304, 305, 306, 307, 308, 309, 310, 311, 312,\n",
              "       313, 314, 315, 316, 317, 318, 319, 320, 321, 322, 323, 324, 325,\n",
              "       326, 327, 328, 329, 330, 331, 332, 333, 334, 335, 336, 337, 338,\n",
              "       339, 340, 341, 342, 343, 344, 345, 346, 347, 348, 349, 350, 351,\n",
              "       352, 353, 354, 355, 356, 357, 358, 359, 360, 361, 362, 363, 364,\n",
              "       365, 366, 367, 368, 369, 370, 371, 372, 373, 374, 375, 376, 377,\n",
              "       378, 379, 380, 381, 382, 383, 384, 385, 386, 387, 388, 389, 390,\n",
              "       391, 392, 393, 394, 395, 396, 397, 398, 399, 400, 401, 402, 403,\n",
              "       404, 405, 406, 407])"
            ]
          },
          "metadata": {
            "tags": []
          },
          "execution_count": 24
        }
      ]
    },
    {
      "cell_type": "code",
      "metadata": {
        "colab": {
          "base_uri": "https://localhost:8080/"
        },
        "id": "A5zxWs50pFFP",
        "outputId": "d0c54205-61aa-4abc-c396-20d1ef11d823"
      },
      "source": [
        "type(aFechas)"
      ],
      "execution_count": null,
      "outputs": [
        {
          "output_type": "execute_result",
          "data": {
            "text/plain": [
              "numpy.ndarray"
            ]
          },
          "metadata": {
            "tags": []
          },
          "execution_count": 25
        }
      ]
    },
    {
      "cell_type": "code",
      "metadata": {
        "colab": {
          "base_uri": "https://localhost:8080/"
        },
        "id": "kO62ZJ9DpFFP",
        "outputId": "ae67c21f-ed96-4662-f6ea-b60b179c2526"
      },
      "source": [
        "# 3) Features and response should have specific shape\n",
        "aFechas.shape"
      ],
      "execution_count": null,
      "outputs": [
        {
          "output_type": "execute_result",
          "data": {
            "text/plain": [
              "(407,)"
            ]
          },
          "metadata": {
            "tags": []
          },
          "execution_count": 26
        }
      ]
    },
    {
      "cell_type": "code",
      "metadata": {
        "colab": {
          "base_uri": "https://localhost:8080/"
        },
        "id": "s92eLce0pFFQ",
        "outputId": "f5bf0768-bf76-4b37-a669-42489dddc3f8"
      },
      "source": [
        "aFechas = aFechas.reshape(-1,1)\n",
        "aFechas"
      ],
      "execution_count": null,
      "outputs": [
        {
          "output_type": "execute_result",
          "data": {
            "text/plain": [
              "array([[  1],\n",
              "       [  2],\n",
              "       [  3],\n",
              "       [  4],\n",
              "       [  5],\n",
              "       [  6],\n",
              "       [  7],\n",
              "       [  8],\n",
              "       [  9],\n",
              "       [ 10],\n",
              "       [ 11],\n",
              "       [ 12],\n",
              "       [ 13],\n",
              "       [ 14],\n",
              "       [ 15],\n",
              "       [ 16],\n",
              "       [ 17],\n",
              "       [ 18],\n",
              "       [ 19],\n",
              "       [ 20],\n",
              "       [ 21],\n",
              "       [ 22],\n",
              "       [ 23],\n",
              "       [ 24],\n",
              "       [ 25],\n",
              "       [ 26],\n",
              "       [ 27],\n",
              "       [ 28],\n",
              "       [ 29],\n",
              "       [ 30],\n",
              "       [ 31],\n",
              "       [ 32],\n",
              "       [ 33],\n",
              "       [ 34],\n",
              "       [ 35],\n",
              "       [ 36],\n",
              "       [ 37],\n",
              "       [ 38],\n",
              "       [ 39],\n",
              "       [ 40],\n",
              "       [ 41],\n",
              "       [ 42],\n",
              "       [ 43],\n",
              "       [ 44],\n",
              "       [ 45],\n",
              "       [ 46],\n",
              "       [ 47],\n",
              "       [ 48],\n",
              "       [ 49],\n",
              "       [ 50],\n",
              "       [ 51],\n",
              "       [ 52],\n",
              "       [ 53],\n",
              "       [ 54],\n",
              "       [ 55],\n",
              "       [ 56],\n",
              "       [ 57],\n",
              "       [ 58],\n",
              "       [ 59],\n",
              "       [ 60],\n",
              "       [ 61],\n",
              "       [ 62],\n",
              "       [ 63],\n",
              "       [ 64],\n",
              "       [ 65],\n",
              "       [ 66],\n",
              "       [ 67],\n",
              "       [ 68],\n",
              "       [ 69],\n",
              "       [ 70],\n",
              "       [ 71],\n",
              "       [ 72],\n",
              "       [ 73],\n",
              "       [ 74],\n",
              "       [ 75],\n",
              "       [ 76],\n",
              "       [ 77],\n",
              "       [ 78],\n",
              "       [ 79],\n",
              "       [ 80],\n",
              "       [ 81],\n",
              "       [ 82],\n",
              "       [ 83],\n",
              "       [ 84],\n",
              "       [ 85],\n",
              "       [ 86],\n",
              "       [ 87],\n",
              "       [ 88],\n",
              "       [ 89],\n",
              "       [ 90],\n",
              "       [ 91],\n",
              "       [ 92],\n",
              "       [ 93],\n",
              "       [ 94],\n",
              "       [ 95],\n",
              "       [ 96],\n",
              "       [ 97],\n",
              "       [ 98],\n",
              "       [ 99],\n",
              "       [100],\n",
              "       [101],\n",
              "       [102],\n",
              "       [103],\n",
              "       [104],\n",
              "       [105],\n",
              "       [106],\n",
              "       [107],\n",
              "       [108],\n",
              "       [109],\n",
              "       [110],\n",
              "       [111],\n",
              "       [112],\n",
              "       [113],\n",
              "       [114],\n",
              "       [115],\n",
              "       [116],\n",
              "       [117],\n",
              "       [118],\n",
              "       [119],\n",
              "       [120],\n",
              "       [121],\n",
              "       [122],\n",
              "       [123],\n",
              "       [124],\n",
              "       [125],\n",
              "       [126],\n",
              "       [127],\n",
              "       [128],\n",
              "       [129],\n",
              "       [130],\n",
              "       [131],\n",
              "       [132],\n",
              "       [133],\n",
              "       [134],\n",
              "       [135],\n",
              "       [136],\n",
              "       [137],\n",
              "       [138],\n",
              "       [139],\n",
              "       [140],\n",
              "       [141],\n",
              "       [142],\n",
              "       [143],\n",
              "       [144],\n",
              "       [145],\n",
              "       [146],\n",
              "       [147],\n",
              "       [148],\n",
              "       [149],\n",
              "       [150],\n",
              "       [151],\n",
              "       [152],\n",
              "       [153],\n",
              "       [154],\n",
              "       [155],\n",
              "       [156],\n",
              "       [157],\n",
              "       [158],\n",
              "       [159],\n",
              "       [160],\n",
              "       [161],\n",
              "       [162],\n",
              "       [163],\n",
              "       [164],\n",
              "       [165],\n",
              "       [166],\n",
              "       [167],\n",
              "       [168],\n",
              "       [169],\n",
              "       [170],\n",
              "       [171],\n",
              "       [172],\n",
              "       [173],\n",
              "       [174],\n",
              "       [175],\n",
              "       [176],\n",
              "       [177],\n",
              "       [178],\n",
              "       [179],\n",
              "       [180],\n",
              "       [181],\n",
              "       [182],\n",
              "       [183],\n",
              "       [184],\n",
              "       [185],\n",
              "       [186],\n",
              "       [187],\n",
              "       [188],\n",
              "       [189],\n",
              "       [190],\n",
              "       [191],\n",
              "       [192],\n",
              "       [193],\n",
              "       [194],\n",
              "       [195],\n",
              "       [196],\n",
              "       [197],\n",
              "       [198],\n",
              "       [199],\n",
              "       [200],\n",
              "       [201],\n",
              "       [202],\n",
              "       [203],\n",
              "       [204],\n",
              "       [205],\n",
              "       [206],\n",
              "       [207],\n",
              "       [208],\n",
              "       [209],\n",
              "       [210],\n",
              "       [211],\n",
              "       [212],\n",
              "       [213],\n",
              "       [214],\n",
              "       [215],\n",
              "       [216],\n",
              "       [217],\n",
              "       [218],\n",
              "       [219],\n",
              "       [220],\n",
              "       [221],\n",
              "       [222],\n",
              "       [223],\n",
              "       [224],\n",
              "       [225],\n",
              "       [226],\n",
              "       [227],\n",
              "       [228],\n",
              "       [229],\n",
              "       [230],\n",
              "       [231],\n",
              "       [232],\n",
              "       [233],\n",
              "       [234],\n",
              "       [235],\n",
              "       [236],\n",
              "       [237],\n",
              "       [238],\n",
              "       [239],\n",
              "       [240],\n",
              "       [241],\n",
              "       [242],\n",
              "       [243],\n",
              "       [244],\n",
              "       [245],\n",
              "       [246],\n",
              "       [247],\n",
              "       [248],\n",
              "       [249],\n",
              "       [250],\n",
              "       [251],\n",
              "       [252],\n",
              "       [253],\n",
              "       [254],\n",
              "       [255],\n",
              "       [256],\n",
              "       [257],\n",
              "       [258],\n",
              "       [259],\n",
              "       [260],\n",
              "       [261],\n",
              "       [262],\n",
              "       [263],\n",
              "       [264],\n",
              "       [265],\n",
              "       [266],\n",
              "       [267],\n",
              "       [268],\n",
              "       [269],\n",
              "       [270],\n",
              "       [271],\n",
              "       [272],\n",
              "       [273],\n",
              "       [274],\n",
              "       [275],\n",
              "       [276],\n",
              "       [277],\n",
              "       [278],\n",
              "       [279],\n",
              "       [280],\n",
              "       [281],\n",
              "       [282],\n",
              "       [283],\n",
              "       [284],\n",
              "       [285],\n",
              "       [286],\n",
              "       [287],\n",
              "       [288],\n",
              "       [289],\n",
              "       [290],\n",
              "       [291],\n",
              "       [292],\n",
              "       [293],\n",
              "       [294],\n",
              "       [295],\n",
              "       [296],\n",
              "       [297],\n",
              "       [298],\n",
              "       [299],\n",
              "       [300],\n",
              "       [301],\n",
              "       [302],\n",
              "       [303],\n",
              "       [304],\n",
              "       [305],\n",
              "       [306],\n",
              "       [307],\n",
              "       [308],\n",
              "       [309],\n",
              "       [310],\n",
              "       [311],\n",
              "       [312],\n",
              "       [313],\n",
              "       [314],\n",
              "       [315],\n",
              "       [316],\n",
              "       [317],\n",
              "       [318],\n",
              "       [319],\n",
              "       [320],\n",
              "       [321],\n",
              "       [322],\n",
              "       [323],\n",
              "       [324],\n",
              "       [325],\n",
              "       [326],\n",
              "       [327],\n",
              "       [328],\n",
              "       [329],\n",
              "       [330],\n",
              "       [331],\n",
              "       [332],\n",
              "       [333],\n",
              "       [334],\n",
              "       [335],\n",
              "       [336],\n",
              "       [337],\n",
              "       [338],\n",
              "       [339],\n",
              "       [340],\n",
              "       [341],\n",
              "       [342],\n",
              "       [343],\n",
              "       [344],\n",
              "       [345],\n",
              "       [346],\n",
              "       [347],\n",
              "       [348],\n",
              "       [349],\n",
              "       [350],\n",
              "       [351],\n",
              "       [352],\n",
              "       [353],\n",
              "       [354],\n",
              "       [355],\n",
              "       [356],\n",
              "       [357],\n",
              "       [358],\n",
              "       [359],\n",
              "       [360],\n",
              "       [361],\n",
              "       [362],\n",
              "       [363],\n",
              "       [364],\n",
              "       [365],\n",
              "       [366],\n",
              "       [367],\n",
              "       [368],\n",
              "       [369],\n",
              "       [370],\n",
              "       [371],\n",
              "       [372],\n",
              "       [373],\n",
              "       [374],\n",
              "       [375],\n",
              "       [376],\n",
              "       [377],\n",
              "       [378],\n",
              "       [379],\n",
              "       [380],\n",
              "       [381],\n",
              "       [382],\n",
              "       [383],\n",
              "       [384],\n",
              "       [385],\n",
              "       [386],\n",
              "       [387],\n",
              "       [388],\n",
              "       [389],\n",
              "       [390],\n",
              "       [391],\n",
              "       [392],\n",
              "       [393],\n",
              "       [394],\n",
              "       [395],\n",
              "       [396],\n",
              "       [397],\n",
              "       [398],\n",
              "       [399],\n",
              "       [400],\n",
              "       [401],\n",
              "       [402],\n",
              "       [403],\n",
              "       [404],\n",
              "       [405],\n",
              "       [406],\n",
              "       [407]])"
            ]
          },
          "metadata": {
            "tags": []
          },
          "execution_count": 27
        }
      ]
    },
    {
      "cell_type": "code",
      "metadata": {
        "colab": {
          "base_uri": "https://localhost:8080/"
        },
        "id": "HrFD_y5lpFFQ",
        "outputId": "5be7ce53-af5a-44c2-ba92-f18daad4f779"
      },
      "source": [
        "aFechas.shape"
      ],
      "execution_count": null,
      "outputs": [
        {
          "output_type": "execute_result",
          "data": {
            "text/plain": [
              "(407, 1)"
            ]
          },
          "metadata": {
            "tags": []
          },
          "execution_count": 28
        }
      ]
    },
    {
      "cell_type": "code",
      "metadata": {
        "colab": {
          "base_uri": "https://localhost:8080/"
        },
        "id": "lnLt5cS5pFFQ",
        "outputId": "1c0e00fc-060d-41b4-d42c-04412b8af050"
      },
      "source": [
        "aDatos.shape"
      ],
      "execution_count": null,
      "outputs": [
        {
          "output_type": "execute_result",
          "data": {
            "text/plain": [
              "(407,)"
            ]
          },
          "metadata": {
            "tags": []
          },
          "execution_count": 29
        }
      ]
    },
    {
      "cell_type": "code",
      "metadata": {
        "colab": {
          "base_uri": "https://localhost:8080/",
          "height": 340
        },
        "id": "LmJc3P0qpFFN",
        "outputId": "ed1c6587-e57b-44a6-feba-01b5d834e151"
      },
      "source": [
        "%matplotlib inline\n",
        "y=Datos\n",
        "x=np.arange(len(Fechas))\n",
        "plt.xticks(x[::40],Fechas[::40], fontsize=10, rotation=45)\n",
        "plt.plot(x,y,linewidth=1)\n",
        "plt.xlabel('Tiempo')\n",
        "plt.ylabel('Casos Diarios')\n",
        "plt.title('Casos Diarios Nuevos')\n",
        "#plt.xticks(fontsize=10, rotation=45)\n",
        "#x_ticks = np.arange(0, max(aFechas), 50)\n",
        "#plt.xticks(x_ticks)\n",
        "y_ticks = np.arange(-1e6, max(Datos)+1e6, 2e6)\n",
        "plt.yticks(y_ticks)\n",
        "plt.show()"
      ],
      "execution_count": null,
      "outputs": [
        {
          "output_type": "display_data",
          "data": {
            "image/png": "[encoded data removed]",
            "text/plain": [
              "<Figure size 432x288 with 1 Axes>"
            ]
          },
          "metadata": {
            "tags": [],
            "needs_background": "light"
          }
        }
      ]
    },
    {
      "cell_type": "markdown",
      "metadata": {
        "id": "P_tBEP4LpFFQ"
      },
      "source": [
        "*TRAINING THE MODEL*"
      ]
    },
    {
      "cell_type": "code",
      "metadata": {
        "id": "LrZT8c89pFFR"
      },
      "source": [
        "# Step #1: Importing the class model\n",
        "from sklearn.linear_model import LinearRegression"
      ],
      "execution_count": null,
      "outputs": []
    },
    {
      "cell_type": "code",
      "metadata": {
        "id": "K2QpXsQ6pFFR"
      },
      "source": [
        "# Step #2: Instantiating the model (Linear Regression)\n",
        "linR = LinearRegression()"
      ],
      "execution_count": null,
      "outputs": []
    },
    {
      "cell_type": "code",
      "metadata": {
        "id": "nMaYCasZpFFR"
      },
      "source": [
        "# Step #3: Training the model\n",
        "from sklearn.model_selection import train_test_split\n",
        "\n",
        "aFechas_train, aFechas_test, aDatos_train, aDatos_test = train_test_split(aFechas,aDatos,test_size=0.2,random_state=42)"
      ],
      "execution_count": null,
      "outputs": []
    },
    {
      "cell_type": "code",
      "metadata": {
        "colab": {
          "base_uri": "https://localhost:8080/"
        },
        "id": "rNTLIi8EpFFR",
        "outputId": "3bf1b24e-e15d-40a4-a5cd-dee841102bc0"
      },
      "source": [
        "linR.fit(aFechas_train,aDatos_train)"
      ],
      "execution_count": null,
      "outputs": [
        {
          "output_type": "execute_result",
          "data": {
            "text/plain": [
              "LinearRegression(copy_X=True, fit_intercept=True, n_jobs=None, normalize=False)"
            ]
          },
          "metadata": {
            "tags": []
          },
          "execution_count": 37
        }
      ]
    },
    {
      "cell_type": "code",
      "metadata": {
        "colab": {
          "base_uri": "https://localhost:8080/"
        },
        "id": "IhWEdrlqpFFR",
        "outputId": "c53305f2-45f5-40bb-f4f0-53db9a98c040"
      },
      "source": [
        "# Displaying linear regression coeficients\n",
        "# slope: m\n",
        "linR.coef_"
      ],
      "execution_count": null,
      "outputs": [
        {
          "output_type": "execute_result",
          "data": {
            "text/plain": [
              "array([64034.80910299])"
            ]
          },
          "metadata": {
            "tags": []
          },
          "execution_count": 38
        }
      ]
    },
    {
      "cell_type": "code",
      "metadata": {
        "colab": {
          "base_uri": "https://localhost:8080/"
        },
        "id": "hrsNY4bapFFS",
        "outputId": "99880203-f532-4ee9-bf70-7e80255d31ab"
      },
      "source": [
        "# vertical axis interception: b\n",
        "linR.intercept_"
      ],
      "execution_count": null,
      "outputs": [
        {
          "output_type": "execute_result",
          "data": {
            "text/plain": [
              "-4655396.502765277"
            ]
          },
          "metadata": {
            "tags": []
          },
          "execution_count": 39
        }
      ]
    },
    {
      "cell_type": "code",
      "metadata": {
        "colab": {
          "base_uri": "https://localhost:8080/"
        },
        "id": "kLEZKi8ypFFS",
        "outputId": "f5586628-15db-4e15-dd36-8b0dd59d7412"
      },
      "source": [
        "# Step #4: Predict the response for a new observation\n",
        "# Daily new cases with a date of 30\n",
        "\n",
        "linR.predict([[100]])"
      ],
      "execution_count": null,
      "outputs": [
        {
          "output_type": "execute_result",
          "data": {
            "text/plain": [
              "array([1748084.40753359])"
            ]
          },
          "metadata": {
            "tags": []
          },
          "execution_count": 40
        }
      ]
    },
    {
      "cell_type": "code",
      "metadata": {
        "id": "xkB-lTbbpFFS"
      },
      "source": [
        "Datos[100]"
      ],
      "execution_count": null,
      "outputs": []
    },
    {
      "cell_type": "code",
      "metadata": {
        "colab": {
          "base_uri": "https://localhost:8080/",
          "height": 340
        },
        "id": "i7mrf-LNpFFS",
        "outputId": "a1589b9a-173e-4576-8245-c1eda6dedb79"
      },
      "source": [
        "%matplotlib inline\n",
        "y=Datos\n",
        "x=np.arange(len(Fechas))\n",
        "plt.xticks(x[::40],Fechas[::40], fontsize=10, rotation=45)\n",
        "plt.plot(x,y,linewidth=1)\n",
        "plt.xlabel('Tiempo')\n",
        "plt.ylabel('Casos Diarios')\n",
        "plt.title('Casos Diarios Nuevos')\n",
        "#plt.xticks(fontsize=10, rotation=45)\n",
        "#x_ticks = np.arange(0, max(aFechas), 50)\n",
        "#plt.xticks(x_ticks)\n",
        "y_ticks = np.arange(-1e6, max(Datos)+1e6, 2e6)\n",
        "plt.yticks(y_ticks)\n",
        "plt.plot(aFechas_train, linR.predict(aFechas_train), color='red')\n",
        "plt.show()"
      ],
      "execution_count": null,
      "outputs": [
        {
          "output_type": "display_data",
          "data": {
            "image/png": "[encoded data removed]",
            "text/plain": [
              "<Figure size 432x288 with 1 Axes>"
            ]
          },
          "metadata": {
            "tags": [],
            "needs_background": "light"
          }
        }
      ]
    }
  ]
}